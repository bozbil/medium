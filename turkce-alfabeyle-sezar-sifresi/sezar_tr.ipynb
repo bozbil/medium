{
 "cells": [
  {
   "cell_type": "code",
   "execution_count": 3,
   "metadata": {},
   "outputs": [
    {
     "name": "stdout",
     "output_type": "stream",
     "text": [
      ":Sezar şifresi programı - lütfen seçiniz:\n",
      "1. Şifreleme \n",
      "2. Şifre çözme\n",
      "1\n",
      "lütfen şifrelenecek metni giriniz:\n",
      "kahraman koştaş\n",
      "lütfen şifreleyecek anahtarı giriniz:\n",
      "1\n",
      "lbisbnbo lötubt\n"
     ]
    }
   ],
   "source": [
    "sayidan_alfabe={0:\"a\", 1:\"b\", 2:\"c\", 3:\"ç\", 4:\"d\", 5:\"e\", 6:\"f\", 7:\"g\", 8:\"ğ\", 9:\"h\", 10:\"ı\",\n",
    "11:\"i\", 12:\"j\", 13:\"k\", 14:\"l\", 15:\"m\", 16:\"n\", 17:\"o\", 18:\"ö\", 19:\"p\", 20:\"r\",\n",
    "21:\"s\", 22:\"ş\", 23:\"t\", 24:\"u\", 25:\"ü\", 26:\"v\", 27:\"y\", 28:\"z\"}\n",
    "\n",
    "alfabeden_sayi={\"a\":0, \"b\":1, \"c\":2, \"ç\":3, \"d\":4, \"e\":5, \"f\":6, \"g\":7, \"ğ\":8, \"h\":9, \"ı\":10, \"i\":11,\n",
    "\"j\":12, \"k\":13, \"l\":14, \"m\":15, \"n\":16, \"o\":17, \"ö\":18, \"p\":19, \"r\":20,\n",
    "\"s\":21, \"ş\":22, \"t\":23, \"u\":24, \"ü\":25, \"v\":26, \"y\":27, \"z\":28 }\n",
    "\n",
    "\"\"\"\n",
    "for key, value in alfabe.items():\n",
    "\tprint(key, value)\n",
    "\"\"\"\n",
    "\n",
    "def sifrele(metin,anahtar):\n",
    "    sonuc = \"\"\n",
    "    for i in metin:\n",
    "        if i in alfabeden_sayi:\n",
    "            sayi = alfabeden_sayi[i]\n",
    "            sayi=(sayi+anahtar)%29\n",
    "            sonuc=sonuc+sayidan_alfabe[sayi]\n",
    "        elif i==\" \":\n",
    "            sonuc=sonuc+i\n",
    "        else:\n",
    "            sonuc += i\n",
    "    return sonuc\n",
    "      \n",
    "      \n",
    "\n",
    "def sifrecoz(metin):\n",
    "    for i in range(1,29):\n",
    "        a=sifrele(metin,i)\n",
    "        print(a)\n",
    "\n",
    "\n",
    "def main():\n",
    "\n",
    "    bayrak=True\n",
    "    while bayrak:\n",
    "        a = (input(\":Sezar şifresi programı - lütfen seçiniz:\\n\"\n",
    "                                                    \"1. Şifreleme \\n2. Şifre çözme\\n\"))\n",
    "        try:\n",
    "            if (int(a) == 1):\n",
    "                bayrak=False\n",
    "                \n",
    "                metin = (input(\"lütfen şifrelenecek metni giriniz:\\n\"))\n",
    "                metin=metin.lower()\n",
    "                anahtar = int(input(\"lütfen şifreleyecek anahtarı giriniz:\\n\"))\n",
    "                sonuc=sifrele(metin,anahtar)\n",
    "                print(sonuc)\n",
    "                   \n",
    "                        \n",
    "            elif (int(a) == 2):\n",
    "                bayrak=False\n",
    "                metin = (input(\"lütfen şifresi çözülecek metni giriniz:\\n\"))\n",
    "                sonuc=sifrecoz(metin) \n",
    "        except :\n",
    "            bayrak=True\n",
    "            print(\"yanlış giriş\") \n",
    "            \n",
    "if __name__ == '__main__' : \n",
    "\tmain() \n"
   ]
  },
  {
   "cell_type": "code",
   "execution_count": null,
   "metadata": {},
   "outputs": [],
   "source": []
  }
 ],
 "metadata": {
  "kernelspec": {
   "display_name": "Python 3",
   "language": "python",
   "name": "python3"
  },
  "language_info": {
   "codemirror_mode": {
    "name": "ipython",
    "version": 3
   },
   "file_extension": ".py",
   "mimetype": "text/x-python",
   "name": "python",
   "nbconvert_exporter": "python",
   "pygments_lexer": "ipython3",
   "version": "3.6.5"
  }
 },
 "nbformat": 4,
 "nbformat_minor": 2
}
